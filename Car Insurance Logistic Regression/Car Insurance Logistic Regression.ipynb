{
 "cells": [
  {
   "attachments": {},
   "cell_type": "markdown",
   "id": "c3f0e974-faf8-458f-bf2a-06a469d0ea5e",
   "metadata": {},
   "source": [
    "### The aim of this model is to find the best feature to predict whether the customer will make a claim (1) or not (0)"
   ]
  },
  {
   "cell_type": "markdown",
   "id": "8928ffdf-25d6-4ad9-909f-0dd8d10b9a42",
   "metadata": {},
   "source": [
    "\n",
    "\n",
    "## The dataset\n",
    "\n",
    "| Column | Description |\n",
    "|--------|-------------|\n",
    "| `id` | Unique client identifier |\n",
    "| `age` | Client's age: <br> <ul><li>`0`: 16-25</li><li>`1`: 26-39</li><li>`2`: 40-64</li><li>`3`: 65+</li></ul> |\n",
    "| `gender` | Client's gender: <br> <ul><li>`0`: Female</li><li>`1`: Male</li></ul> |\n",
    "| `driving_experience` | Years the client has been driving: <br> <ul><li>`0`: 0-9</li><li>`1`: 10-19</li><li>`2`: 20-29</li><li>`3`: 30+</li></ul> |\n",
    "| `education` | Client's level of education: <br> <ul><li>`0`: No education</li><li>`1`: High school</li><li>`2`: University</li></ul> |\n",
    "| `income` | Client's income level: <br> <ul><li>`0`: Poverty</li><li>`1`: Working class</li><li>`2`: Middle class</li><li>`3`: Upper class</li></ul> |\n",
    "| `credit_score` | Client's credit score (between zero and one) |\n",
    "| `vehicle_ownership` | Client's vehicle ownership status: <br><ul><li>`0`: Does not own their vehilce (paying off finance)</li><li>`1`: Owns their vehicle</li></ul> |\n",
    "| `vehcile_year` | Year of vehicle registration: <br><ul><li>`0`: Before 2015</li><li>`1`: 2015 or later</li></ul> |\n",
    "| `married` | Client's marital status: <br><ul><li>`0`: Not married</li><li>`1`: Married</li></ul> |\n",
    "| `children` | Client's number of children |\n",
    "| `postal_code` | Client's postal code | \n",
    "| `annual_mileage` | Number of miles driven by the client each year |\n",
    "| `vehicle_type` | Type of car: <br> <ul><li>`0`: Sedan</li><li>`1`: Sports car</li></ul> |\n",
    "| `speeding_violations` | Total number of speeding violations received by the client | \n",
    "| `duis` | Number of times the client has been caught driving under the influence of alcohol |\n",
    "| `past_accidents` | Total number of previous accidents the client has been involved in |\n",
    "| `outcome` | Whether the client made a claim on their car insurance (response variable): <br><ul><li>`0`: No claim</li><li>`1`: Made a claim</li></ul> |"
   ]
  },
  {
   "cell_type": "code",
   "execution_count": 69,
   "id": "d0eb4f16-5a99-460d-a5ba-706b7ef0bbe7",
   "metadata": {
    "executionCancelledAt": null,
    "executionTime": 52,
    "id": "bA5ajAmk7XH6",
    "lastExecutedAt": 1737468292453,
    "lastExecutedByKernel": "bae39bd1-8440-4141-a04d-1809b7d49d59",
    "lastScheduledRunId": null,
    "lastSuccessfullyExecutedCode": "# Import required modules\nimport pandas as pd\nimport numpy as np\nimport matplotlib.pyplot as plt\nimport statsmodels.api as sm\n\ndf = pd.read_csv('car_insurance.csv')\ndf.head()",
    "outputsMetadata": {
     "0": {
      "height": 550,
      "tableState": {
       "quickFilterText": ""
      },
      "type": "dataFrame"
     }
    }
   },
   "outputs": [
    {
     "data": {
      "text/html": [
       "<div>\n",
       "<style scoped>\n",
       "    .dataframe tbody tr th:only-of-type {\n",
       "        vertical-align: middle;\n",
       "    }\n",
       "\n",
       "    .dataframe tbody tr th {\n",
       "        vertical-align: top;\n",
       "    }\n",
       "\n",
       "    .dataframe thead th {\n",
       "        text-align: right;\n",
       "    }\n",
       "</style>\n",
       "<table border=\"1\" class=\"dataframe\">\n",
       "  <thead>\n",
       "    <tr style=\"text-align: right;\">\n",
       "      <th></th>\n",
       "      <th>id</th>\n",
       "      <th>age</th>\n",
       "      <th>gender</th>\n",
       "      <th>driving_experience</th>\n",
       "      <th>education</th>\n",
       "      <th>income</th>\n",
       "      <th>credit_score</th>\n",
       "      <th>vehicle_ownership</th>\n",
       "      <th>vehicle_year</th>\n",
       "      <th>married</th>\n",
       "      <th>children</th>\n",
       "      <th>postal_code</th>\n",
       "      <th>annual_mileage</th>\n",
       "      <th>vehicle_type</th>\n",
       "      <th>speeding_violations</th>\n",
       "      <th>duis</th>\n",
       "      <th>past_accidents</th>\n",
       "      <th>outcome</th>\n",
       "    </tr>\n",
       "  </thead>\n",
       "  <tbody>\n",
       "    <tr>\n",
       "      <th>0</th>\n",
       "      <td>569520</td>\n",
       "      <td>3</td>\n",
       "      <td>0</td>\n",
       "      <td>0-9y</td>\n",
       "      <td>high school</td>\n",
       "      <td>upper class</td>\n",
       "      <td>0.629027</td>\n",
       "      <td>1.0</td>\n",
       "      <td>after 2015</td>\n",
       "      <td>0.0</td>\n",
       "      <td>1.0</td>\n",
       "      <td>10238</td>\n",
       "      <td>12000.0</td>\n",
       "      <td>sedan</td>\n",
       "      <td>0</td>\n",
       "      <td>0</td>\n",
       "      <td>0</td>\n",
       "      <td>0.0</td>\n",
       "    </tr>\n",
       "    <tr>\n",
       "      <th>1</th>\n",
       "      <td>750365</td>\n",
       "      <td>0</td>\n",
       "      <td>1</td>\n",
       "      <td>0-9y</td>\n",
       "      <td>none</td>\n",
       "      <td>poverty</td>\n",
       "      <td>0.357757</td>\n",
       "      <td>0.0</td>\n",
       "      <td>before 2015</td>\n",
       "      <td>0.0</td>\n",
       "      <td>0.0</td>\n",
       "      <td>10238</td>\n",
       "      <td>16000.0</td>\n",
       "      <td>sedan</td>\n",
       "      <td>0</td>\n",
       "      <td>0</td>\n",
       "      <td>0</td>\n",
       "      <td>1.0</td>\n",
       "    </tr>\n",
       "    <tr>\n",
       "      <th>2</th>\n",
       "      <td>199901</td>\n",
       "      <td>0</td>\n",
       "      <td>0</td>\n",
       "      <td>0-9y</td>\n",
       "      <td>high school</td>\n",
       "      <td>working class</td>\n",
       "      <td>0.493146</td>\n",
       "      <td>1.0</td>\n",
       "      <td>before 2015</td>\n",
       "      <td>0.0</td>\n",
       "      <td>0.0</td>\n",
       "      <td>10238</td>\n",
       "      <td>11000.0</td>\n",
       "      <td>sedan</td>\n",
       "      <td>0</td>\n",
       "      <td>0</td>\n",
       "      <td>0</td>\n",
       "      <td>0.0</td>\n",
       "    </tr>\n",
       "    <tr>\n",
       "      <th>3</th>\n",
       "      <td>478866</td>\n",
       "      <td>0</td>\n",
       "      <td>1</td>\n",
       "      <td>0-9y</td>\n",
       "      <td>university</td>\n",
       "      <td>working class</td>\n",
       "      <td>0.206013</td>\n",
       "      <td>1.0</td>\n",
       "      <td>before 2015</td>\n",
       "      <td>0.0</td>\n",
       "      <td>1.0</td>\n",
       "      <td>32765</td>\n",
       "      <td>11000.0</td>\n",
       "      <td>sedan</td>\n",
       "      <td>0</td>\n",
       "      <td>0</td>\n",
       "      <td>0</td>\n",
       "      <td>0.0</td>\n",
       "    </tr>\n",
       "    <tr>\n",
       "      <th>4</th>\n",
       "      <td>731664</td>\n",
       "      <td>1</td>\n",
       "      <td>1</td>\n",
       "      <td>10-19y</td>\n",
       "      <td>none</td>\n",
       "      <td>working class</td>\n",
       "      <td>0.388366</td>\n",
       "      <td>1.0</td>\n",
       "      <td>before 2015</td>\n",
       "      <td>0.0</td>\n",
       "      <td>0.0</td>\n",
       "      <td>32765</td>\n",
       "      <td>12000.0</td>\n",
       "      <td>sedan</td>\n",
       "      <td>2</td>\n",
       "      <td>0</td>\n",
       "      <td>1</td>\n",
       "      <td>1.0</td>\n",
       "    </tr>\n",
       "  </tbody>\n",
       "</table>\n",
       "</div>"
      ],
      "text/plain": [
       "       id  age  gender driving_experience    education         income  \\\n",
       "0  569520    3       0               0-9y  high school    upper class   \n",
       "1  750365    0       1               0-9y         none        poverty   \n",
       "2  199901    0       0               0-9y  high school  working class   \n",
       "3  478866    0       1               0-9y   university  working class   \n",
       "4  731664    1       1             10-19y         none  working class   \n",
       "\n",
       "   credit_score  vehicle_ownership vehicle_year  married  children  \\\n",
       "0      0.629027                1.0   after 2015      0.0       1.0   \n",
       "1      0.357757                0.0  before 2015      0.0       0.0   \n",
       "2      0.493146                1.0  before 2015      0.0       0.0   \n",
       "3      0.206013                1.0  before 2015      0.0       1.0   \n",
       "4      0.388366                1.0  before 2015      0.0       0.0   \n",
       "\n",
       "   postal_code  annual_mileage vehicle_type  speeding_violations  duis  \\\n",
       "0        10238         12000.0        sedan                    0     0   \n",
       "1        10238         16000.0        sedan                    0     0   \n",
       "2        10238         11000.0        sedan                    0     0   \n",
       "3        32765         11000.0        sedan                    0     0   \n",
       "4        32765         12000.0        sedan                    2     0   \n",
       "\n",
       "   past_accidents  outcome  \n",
       "0               0      0.0  \n",
       "1               0      1.0  \n",
       "2               0      0.0  \n",
       "3               0      0.0  \n",
       "4               1      1.0  "
      ]
     },
     "execution_count": 69,
     "metadata": {},
     "output_type": "execute_result"
    }
   ],
   "source": [
    "# Import required modules\n",
    "import pandas as pd\n",
    "import numpy as np\n",
    "import matplotlib.pyplot as plt\n",
    "import seaborn as sns\n",
    "import statsmodels.api as sm\n",
    "\n",
    "df = pd.read_csv('car_insurance.csv')\n",
    "df.head()"
   ]
  },
  {
   "cell_type": "code",
   "execution_count": 70,
   "id": "a6b1712a-694a-4fef-9667-d392cb7a07a6",
   "metadata": {
    "executionCancelledAt": null,
    "executionTime": 49,
    "lastExecutedAt": 1737468292502,
    "lastExecutedByKernel": "bae39bd1-8440-4141-a04d-1809b7d49d59",
    "lastScheduledRunId": null,
    "lastSuccessfullyExecutedCode": "# data types\ndf.info()\n\n# annual_mileage and credit_score contain NULLs\n# both have a \"float\" data type",
    "outputsMetadata": {
     "0": {
      "height": 542,
      "type": "stream"
     }
    }
   },
   "outputs": [
    {
     "name": "stdout",
     "output_type": "stream",
     "text": [
      "<class 'pandas.core.frame.DataFrame'>\n",
      "RangeIndex: 10000 entries, 0 to 9999\n",
      "Data columns (total 18 columns):\n",
      " #   Column               Non-Null Count  Dtype  \n",
      "---  ------               --------------  -----  \n",
      " 0   id                   10000 non-null  int64  \n",
      " 1   age                  10000 non-null  int64  \n",
      " 2   gender               10000 non-null  int64  \n",
      " 3   driving_experience   10000 non-null  object \n",
      " 4   education            10000 non-null  object \n",
      " 5   income               10000 non-null  object \n",
      " 6   credit_score         9018 non-null   float64\n",
      " 7   vehicle_ownership    10000 non-null  float64\n",
      " 8   vehicle_year         10000 non-null  object \n",
      " 9   married              10000 non-null  float64\n",
      " 10  children             10000 non-null  float64\n",
      " 11  postal_code          10000 non-null  int64  \n",
      " 12  annual_mileage       9043 non-null   float64\n",
      " 13  vehicle_type         10000 non-null  object \n",
      " 14  speeding_violations  10000 non-null  int64  \n",
      " 15  duis                 10000 non-null  int64  \n",
      " 16  past_accidents       10000 non-null  int64  \n",
      " 17  outcome              10000 non-null  float64\n",
      "dtypes: float64(6), int64(7), object(5)\n",
      "memory usage: 1.4+ MB\n"
     ]
    }
   ],
   "source": [
    "# data types\n",
    "df.info()\n",
    "\n",
    "# annual_mileage and credit_score contain NULLs\n",
    "# both have a \"float\" data type"
   ]
  },
  {
   "cell_type": "code",
   "execution_count": 71,
   "id": "755cdfbb-c25c-478b-a95f-f651d3896690",
   "metadata": {
    "executionCancelledAt": null,
    "executionTime": 54,
    "lastExecutedAt": 1737468292556,
    "lastExecutedByKernel": "bae39bd1-8440-4141-a04d-1809b7d49d59",
    "lastScheduledRunId": null,
    "lastSuccessfullyExecutedCode": "df.describe()",
    "outputsMetadata": {
     "0": {
      "height": 550,
      "tableState": {
       "quickFilterText": ""
      },
      "type": "dataFrame"
     }
    }
   },
   "outputs": [
    {
     "data": {
      "text/html": [
       "<div>\n",
       "<style scoped>\n",
       "    .dataframe tbody tr th:only-of-type {\n",
       "        vertical-align: middle;\n",
       "    }\n",
       "\n",
       "    .dataframe tbody tr th {\n",
       "        vertical-align: top;\n",
       "    }\n",
       "\n",
       "    .dataframe thead th {\n",
       "        text-align: right;\n",
       "    }\n",
       "</style>\n",
       "<table border=\"1\" class=\"dataframe\">\n",
       "  <thead>\n",
       "    <tr style=\"text-align: right;\">\n",
       "      <th></th>\n",
       "      <th>id</th>\n",
       "      <th>age</th>\n",
       "      <th>gender</th>\n",
       "      <th>credit_score</th>\n",
       "      <th>vehicle_ownership</th>\n",
       "      <th>married</th>\n",
       "      <th>children</th>\n",
       "      <th>postal_code</th>\n",
       "      <th>annual_mileage</th>\n",
       "      <th>speeding_violations</th>\n",
       "      <th>duis</th>\n",
       "      <th>past_accidents</th>\n",
       "      <th>outcome</th>\n",
       "    </tr>\n",
       "  </thead>\n",
       "  <tbody>\n",
       "    <tr>\n",
       "      <th>count</th>\n",
       "      <td>10000.000000</td>\n",
       "      <td>10000.000000</td>\n",
       "      <td>10000.000000</td>\n",
       "      <td>9018.000000</td>\n",
       "      <td>10000.000000</td>\n",
       "      <td>10000.000000</td>\n",
       "      <td>10000.000000</td>\n",
       "      <td>10000.000000</td>\n",
       "      <td>9043.000000</td>\n",
       "      <td>10000.000000</td>\n",
       "      <td>10000.00000</td>\n",
       "      <td>10000.000000</td>\n",
       "      <td>10000.000000</td>\n",
       "    </tr>\n",
       "    <tr>\n",
       "      <th>mean</th>\n",
       "      <td>500521.906800</td>\n",
       "      <td>1.489500</td>\n",
       "      <td>0.499000</td>\n",
       "      <td>0.515813</td>\n",
       "      <td>0.697000</td>\n",
       "      <td>0.498200</td>\n",
       "      <td>0.688800</td>\n",
       "      <td>19864.548400</td>\n",
       "      <td>11697.003207</td>\n",
       "      <td>1.482900</td>\n",
       "      <td>0.23920</td>\n",
       "      <td>1.056300</td>\n",
       "      <td>0.313300</td>\n",
       "    </tr>\n",
       "    <tr>\n",
       "      <th>std</th>\n",
       "      <td>290030.768758</td>\n",
       "      <td>1.025278</td>\n",
       "      <td>0.500024</td>\n",
       "      <td>0.137688</td>\n",
       "      <td>0.459578</td>\n",
       "      <td>0.500022</td>\n",
       "      <td>0.463008</td>\n",
       "      <td>18915.613855</td>\n",
       "      <td>2818.434528</td>\n",
       "      <td>2.241966</td>\n",
       "      <td>0.55499</td>\n",
       "      <td>1.652454</td>\n",
       "      <td>0.463858</td>\n",
       "    </tr>\n",
       "    <tr>\n",
       "      <th>min</th>\n",
       "      <td>101.000000</td>\n",
       "      <td>0.000000</td>\n",
       "      <td>0.000000</td>\n",
       "      <td>0.053358</td>\n",
       "      <td>0.000000</td>\n",
       "      <td>0.000000</td>\n",
       "      <td>0.000000</td>\n",
       "      <td>10238.000000</td>\n",
       "      <td>2000.000000</td>\n",
       "      <td>0.000000</td>\n",
       "      <td>0.00000</td>\n",
       "      <td>0.000000</td>\n",
       "      <td>0.000000</td>\n",
       "    </tr>\n",
       "    <tr>\n",
       "      <th>25%</th>\n",
       "      <td>249638.500000</td>\n",
       "      <td>1.000000</td>\n",
       "      <td>0.000000</td>\n",
       "      <td>0.417191</td>\n",
       "      <td>0.000000</td>\n",
       "      <td>0.000000</td>\n",
       "      <td>0.000000</td>\n",
       "      <td>10238.000000</td>\n",
       "      <td>10000.000000</td>\n",
       "      <td>0.000000</td>\n",
       "      <td>0.00000</td>\n",
       "      <td>0.000000</td>\n",
       "      <td>0.000000</td>\n",
       "    </tr>\n",
       "    <tr>\n",
       "      <th>50%</th>\n",
       "      <td>501777.000000</td>\n",
       "      <td>1.000000</td>\n",
       "      <td>0.000000</td>\n",
       "      <td>0.525033</td>\n",
       "      <td>1.000000</td>\n",
       "      <td>0.000000</td>\n",
       "      <td>1.000000</td>\n",
       "      <td>10238.000000</td>\n",
       "      <td>12000.000000</td>\n",
       "      <td>0.000000</td>\n",
       "      <td>0.00000</td>\n",
       "      <td>0.000000</td>\n",
       "      <td>0.000000</td>\n",
       "    </tr>\n",
       "    <tr>\n",
       "      <th>75%</th>\n",
       "      <td>753974.500000</td>\n",
       "      <td>2.000000</td>\n",
       "      <td>1.000000</td>\n",
       "      <td>0.618312</td>\n",
       "      <td>1.000000</td>\n",
       "      <td>1.000000</td>\n",
       "      <td>1.000000</td>\n",
       "      <td>32765.000000</td>\n",
       "      <td>14000.000000</td>\n",
       "      <td>2.000000</td>\n",
       "      <td>0.00000</td>\n",
       "      <td>2.000000</td>\n",
       "      <td>1.000000</td>\n",
       "    </tr>\n",
       "    <tr>\n",
       "      <th>max</th>\n",
       "      <td>999976.000000</td>\n",
       "      <td>3.000000</td>\n",
       "      <td>1.000000</td>\n",
       "      <td>0.960819</td>\n",
       "      <td>1.000000</td>\n",
       "      <td>1.000000</td>\n",
       "      <td>1.000000</td>\n",
       "      <td>92101.000000</td>\n",
       "      <td>22000.000000</td>\n",
       "      <td>22.000000</td>\n",
       "      <td>6.00000</td>\n",
       "      <td>15.000000</td>\n",
       "      <td>1.000000</td>\n",
       "    </tr>\n",
       "  </tbody>\n",
       "</table>\n",
       "</div>"
      ],
      "text/plain": [
       "                  id           age        gender  credit_score  \\\n",
       "count   10000.000000  10000.000000  10000.000000   9018.000000   \n",
       "mean   500521.906800      1.489500      0.499000      0.515813   \n",
       "std    290030.768758      1.025278      0.500024      0.137688   \n",
       "min       101.000000      0.000000      0.000000      0.053358   \n",
       "25%    249638.500000      1.000000      0.000000      0.417191   \n",
       "50%    501777.000000      1.000000      0.000000      0.525033   \n",
       "75%    753974.500000      2.000000      1.000000      0.618312   \n",
       "max    999976.000000      3.000000      1.000000      0.960819   \n",
       "\n",
       "       vehicle_ownership       married      children   postal_code  \\\n",
       "count       10000.000000  10000.000000  10000.000000  10000.000000   \n",
       "mean            0.697000      0.498200      0.688800  19864.548400   \n",
       "std             0.459578      0.500022      0.463008  18915.613855   \n",
       "min             0.000000      0.000000      0.000000  10238.000000   \n",
       "25%             0.000000      0.000000      0.000000  10238.000000   \n",
       "50%             1.000000      0.000000      1.000000  10238.000000   \n",
       "75%             1.000000      1.000000      1.000000  32765.000000   \n",
       "max             1.000000      1.000000      1.000000  92101.000000   \n",
       "\n",
       "       annual_mileage  speeding_violations         duis  past_accidents  \\\n",
       "count     9043.000000         10000.000000  10000.00000    10000.000000   \n",
       "mean     11697.003207             1.482900      0.23920        1.056300   \n",
       "std       2818.434528             2.241966      0.55499        1.652454   \n",
       "min       2000.000000             0.000000      0.00000        0.000000   \n",
       "25%      10000.000000             0.000000      0.00000        0.000000   \n",
       "50%      12000.000000             0.000000      0.00000        0.000000   \n",
       "75%      14000.000000             2.000000      0.00000        2.000000   \n",
       "max      22000.000000            22.000000      6.00000       15.000000   \n",
       "\n",
       "            outcome  \n",
       "count  10000.000000  \n",
       "mean       0.313300  \n",
       "std        0.463858  \n",
       "min        0.000000  \n",
       "25%        0.000000  \n",
       "50%        0.000000  \n",
       "75%        1.000000  \n",
       "max        1.000000  "
      ]
     },
     "execution_count": 71,
     "metadata": {},
     "output_type": "execute_result"
    }
   ],
   "source": [
    "df.describe()"
   ]
  },
  {
   "cell_type": "code",
   "execution_count": 72,
   "id": "4eb05b55-8d6d-41d4-b014-95d113c3f30c",
   "metadata": {},
   "outputs": [
    {
     "data": {
      "text/plain": [
       "['credit_score', 'annual_mileage']"
      ]
     },
     "execution_count": 72,
     "metadata": {},
     "output_type": "execute_result"
    }
   ],
   "source": [
    "# checking for columns with NULLs\n",
    "null_columns = []\n",
    "for col in df.isna().any()[df.isna().any() == True].index:\n",
    "    null_columns.append(col)\n",
    "\n",
    "null_columns"
   ]
  },
  {
   "cell_type": "code",
   "execution_count": 89,
   "id": "37700514-5c53-48b5-9db3-dbbbf781ceec",
   "metadata": {},
   "outputs": [
    {
     "data": {
      "image/png": "[encoded data removed]",
      "text/plain": [
       "<Figure size 1000x400 with 2 Axes>"
      ]
     },
     "metadata": {},
     "output_type": "display_data"
    }
   ],
   "source": [
    "\n",
    "plt.figure(figsize = (10, 4))\n",
    "i = 1\n",
    "for col in null_columns:\n",
    "    plt.subplot(1, 2, i)\n",
    "    sns.histplot(x=df[col])\n",
    "    plt.title(f'{col} data histogram')\n",
    "    plt.tight_layout()\n",
    "    plt.xticks(rotation=45)\n",
    "    plt.plot()\n",
    "    i += 1\n",
    "\n",
    "# both of those are normally distributed, which means that nulls will be replaced with mean"
   ]
  },
  {
   "cell_type": "code",
   "execution_count": 90,
   "id": "398de2e2-94a2-4c61-92a5-e33d450fe809",
   "metadata": {
    "executionCancelledAt": null,
    "executionTime": 82,
    "lastExecutedAt": 1737468293061,
    "lastExecutedByKernel": "bae39bd1-8440-4141-a04d-1809b7d49d59",
    "lastScheduledRunId": null,
    "lastSuccessfullyExecutedCode": "# replacing missing values\ndf['credit_score'] = df['credit_score'].fillna(df['credit_score'].mean())\ndf['annual_mileage'] = df['annual_mileage'].fillna(df['annual_mileage'].mean())\ndf.isna() # checking if replaced correctly",
    "outputsMetadata": {
     "0": {
      "height": 550,
      "tableState": {
       "customFilter": {
        "const": {
         "type": "boolean",
         "valid": true,
         "value": true
        },
        "id": "75d4aaa3-68de-4014-849c-4264b382e0dd",
        "nodeType": "const"
       },
       "quickFilterText": "",
       "sort": {
        "sortModel": [
         {
          "colId": "annual_mileage",
          "sort": "asc"
         }
        ]
       }
      },
      "type": "dataFrame"
     }
    }
   },
   "outputs": [
    {
     "data": {
      "text/plain": [
       "id                     False\n",
       "age                    False\n",
       "gender                 False\n",
       "driving_experience     False\n",
       "education              False\n",
       "income                 False\n",
       "credit_score           False\n",
       "vehicle_ownership      False\n",
       "vehicle_year           False\n",
       "married                False\n",
       "children               False\n",
       "postal_code            False\n",
       "annual_mileage         False\n",
       "vehicle_type           False\n",
       "speeding_violations    False\n",
       "duis                   False\n",
       "past_accidents         False\n",
       "outcome                False\n",
       "dtype: bool"
      ]
     },
     "execution_count": 90,
     "metadata": {},
     "output_type": "execute_result"
    }
   ],
   "source": [
    "# replacing missing values\n",
    "df['credit_score'] = df['credit_score'].fillna(df['credit_score'].mean())\n",
    "df['annual_mileage'] = df['annual_mileage'].fillna(df['annual_mileage'].mean())\n",
    "df.isna().any() # checking if replaced correctly"
   ]
  },
  {
   "cell_type": "code",
   "execution_count": 91,
   "id": "9035c91f-f37e-4871-bd5e-2ce7828b8b55",
   "metadata": {
    "executionCancelledAt": null,
    "executionTime": 53,
    "lastExecutedAt": 1737468293114,
    "lastExecutedByKernel": "bae39bd1-8440-4141-a04d-1809b7d49d59",
    "lastScheduledRunId": null,
    "lastSuccessfullyExecutedCode": "# selecting features for modeling and a variable for storing models\nmodels = []\nfeatures = df.iloc[:, 1:-1].columns # everything except for id and outcome\nfeatures",
    "outputsMetadata": {
     "0": {
      "height": 500,
      "tableState": {},
      "type": "dataFrame"
     }
    }
   },
   "outputs": [
    {
     "data": {
      "text/plain": [
       "Index(['age', 'gender', 'driving_experience', 'education', 'income',\n",
       "       'credit_score', 'vehicle_ownership', 'vehicle_year', 'married',\n",
       "       'children', 'postal_code', 'annual_mileage', 'vehicle_type',\n",
       "       'speeding_violations', 'duis', 'past_accidents'],\n",
       "      dtype='object')"
      ]
     },
     "execution_count": 91,
     "metadata": {},
     "output_type": "execute_result"
    }
   ],
   "source": [
    "# selecting features for modeling and a variable for storing models\n",
    "models = []\n",
    "features = df.iloc[:, 1:-1].columns # everything except for id and outcome (because it's a dependent variable)\n",
    "features"
   ]
  },
  {
   "cell_type": "code",
   "execution_count": 92,
   "id": "e0aa3b67-69c1-4c7f-b712-6b323335b6eb",
   "metadata": {
    "executionCancelledAt": null,
    "executionTime": 1670,
    "lastExecutedAt": 1737468294784,
    "lastExecutedByKernel": "bae39bd1-8440-4141-a04d-1809b7d49d59",
    "lastScheduledRunId": null,
    "lastSuccessfullyExecutedCode": "# creating a separate model for every feature\nfor col in features:\n    x = df[col]\n    y = df['outcome']\n    if x.dtype == 'object': # handling categorical features\n        x = pd.get_dummies(x, drop_first=True)\n    x = sm.add_constant(x) # adding a constant to regression \n    log_reg = sm.Logit(y, x).fit()\n    models.append(log_reg)\n    \nmodels",
    "outputsMetadata": {
     "0": {
      "height": 616,
      "type": "stream"
     }
    }
   },
   "outputs": [
    {
     "name": "stdout",
     "output_type": "stream",
     "text": [
      "Optimization terminated successfully.\n",
      "         Current function value: 0.511794\n",
      "         Iterations 6\n",
      "Optimization terminated successfully.\n",
      "         Current function value: 0.615951\n",
      "         Iterations 5\n",
      "Optimization terminated successfully.\n",
      "         Current function value: 0.467092\n",
      "         Iterations 8\n",
      "Optimization terminated successfully.\n",
      "         Current function value: 0.603742\n",
      "         Iterations 5\n",
      "Optimization terminated successfully.\n",
      "         Current function value: 0.531499\n",
      "         Iterations 6\n",
      "Optimization terminated successfully.\n",
      "         Current function value: 0.572557\n",
      "         Iterations 6\n",
      "Optimization terminated successfully.\n",
      "         Current function value: 0.552412\n",
      "         Iterations 5\n",
      "Optimization terminated successfully.\n",
      "         Current function value: 0.572668\n",
      "         Iterations 6\n",
      "Optimization terminated successfully.\n",
      "         Current function value: 0.586659\n",
      "         Iterations 5\n",
      "Optimization terminated successfully.\n",
      "         Current function value: 0.595431\n",
      "         Iterations 5\n",
      "Optimization terminated successfully.\n",
      "         Current function value: 0.617345\n",
      "         Iterations 5\n",
      "Optimization terminated successfully.\n",
      "         Current function value: 0.605716\n",
      "         Iterations 5\n",
      "Optimization terminated successfully.\n",
      "         Current function value: 0.621700\n",
      "         Iterations 5\n",
      "Optimization terminated successfully.\n",
      "         Current function value: 0.558922\n",
      "         Iterations 7\n",
      "Optimization terminated successfully.\n",
      "         Current function value: 0.598699\n",
      "         Iterations 6\n",
      "Optimization terminated successfully.\n",
      "         Current function value: 0.549220\n",
      "         Iterations 7\n"
     ]
    }
   ],
   "source": [
    "# creating a separate model for every feature\n",
    "for col in features:\n",
    "    x = df[col]\n",
    "    y = df['outcome']\n",
    "    if x.dtype == object:\n",
    "       x = pd.get_dummies(x, drop_first=True).astype(int) # .astype(int) had to be used here to change True into 1 and False into 0\n",
    "    x = sm.add_constant(x) # adding a constant to regression \n",
    "    log_reg = sm.Logit(y, x).fit()\n",
    "    models.append(log_reg) "
   ]
  },
  {
   "cell_type": "code",
   "execution_count": 93,
   "id": "5a8e42d6-7376-4560-b1d7-88be13204a18",
   "metadata": {
    "executionCancelledAt": null,
    "executionTime": 396,
    "lastExecutedAt": 1737468295180,
    "lastExecutedByKernel": "bae39bd1-8440-4141-a04d-1809b7d49d59",
    "lastScheduledRunId": null,
    "lastSuccessfullyExecutedCode": "# calculating accuracies\naccuracies = []\nfor i in range(len(models)):\n    conf_matrix = models[i].pred_table() # confusion matrix (or prediction table)\n    true_negative = conf_matrix[0, 0] # true negative = actual 0, predicted 0 - top left\n    true_positive = conf_matrix[1, 1] # true positive = actual 1, predicted 1 - bottom right\n    false_negative = conf_matrix[1, 0] # false negative = actual 1, predicted 0 - bottom left\n    false_positive = conf_matrix[0, 1] # false positive = actual 0, predicted 1 - top right\n    accuracy = (true_negative + true_positive) / (true_negative + true_positive + false_negative + false_positive) # accuracy = (TN + TP) / (TN + TP + FN + FP)\n    accuracies.append(accuracy)\n    \nmax_index = accuracies.index(max(accuracies)) # identifying the model with the highest accuracy",
    "outputsMetadata": {
     "0": {
      "height": 616,
      "type": "stream"
     }
    }
   },
   "outputs": [
    {
     "data": {
      "text/plain": [
       "[np.float64(0.7747),\n",
       " np.float64(0.6867),\n",
       " np.float64(0.7771),\n",
       " np.float64(0.6867),\n",
       " np.float64(0.7425),\n",
       " np.float64(0.7054),\n",
       " np.float64(0.7351),\n",
       " np.float64(0.6867),\n",
       " np.float64(0.6867),\n",
       " np.float64(0.6867),\n",
       " np.float64(0.6867),\n",
       " np.float64(0.6904),\n",
       " np.float64(0.6867),\n",
       " np.float64(0.6867),\n",
       " np.float64(0.6867),\n",
       " np.float64(0.6867)]"
      ]
     },
     "execution_count": 93,
     "metadata": {},
     "output_type": "execute_result"
    }
   ],
   "source": [
    "# calculating accuracies\n",
    "accuracies = []\n",
    "for i in range(len(models)):\n",
    "    conf_matrix = models[i].pred_table() # confusion matrix (or prediction table)\n",
    "    true_negative = conf_matrix[0, 0] # true negative = actual 0, predicted 0 - top left\n",
    "    true_positive = conf_matrix[1, 1] # true positive = actual 1, predicted 1 - bottom right\n",
    "    false_negative = conf_matrix[1, 0] # false negative = actual 1, predicted 0 - bottom left\n",
    "    false_positive = conf_matrix[0, 1] # false positive = actual 0, predicted 1 - top right\n",
    "    accuracy = (true_negative + true_positive) / (true_negative + true_positive + false_negative + false_positive) # accuracy = (TN + TP) / (TN + TP + FN + FP)\n",
    "    accuracies.append(accuracy)\n",
    "    \n",
    "max_index = accuracies.index(max(accuracies)) # identifying the model with the highest accuracy\n",
    "accuracies"
   ]
  },
  {
   "cell_type": "code",
   "execution_count": 94,
   "id": "56be5171-60d4-4686-828d-e2d753824aad",
   "metadata": {
    "executionCancelledAt": null,
    "executionTime": 57,
    "lastExecutedAt": 1737468295238,
    "lastExecutedByKernel": "bae39bd1-8440-4141-a04d-1809b7d49d59",
    "lastScheduledRunId": null,
    "lastSuccessfullyExecutedCode": "# displaying results\nbest = {}\nbest['best_feature'] = features[max_index]\nbest['best_accuracy'] = max(accuracies)\nbest_feature_df = pd.DataFrame(best, index=[0])\nbest_feature_df",
    "outputsMetadata": {
     "0": {
      "height": 50,
      "tableState": {
       "customFilter": {
        "const": {
         "type": "boolean",
         "valid": true,
         "value": true
        },
        "id": "9cd71d31-12ae-4539-9ee3-39913cd21aa9",
        "nodeType": "const"
       },
       "quickFilterText": ""
      },
      "type": "dataFrame"
     }
    }
   },
   "outputs": [
    {
     "data": {
      "text/html": [
       "<div>\n",
       "<style scoped>\n",
       "    .dataframe tbody tr th:only-of-type {\n",
       "        vertical-align: middle;\n",
       "    }\n",
       "\n",
       "    .dataframe tbody tr th {\n",
       "        vertical-align: top;\n",
       "    }\n",
       "\n",
       "    .dataframe thead th {\n",
       "        text-align: right;\n",
       "    }\n",
       "</style>\n",
       "<table border=\"1\" class=\"dataframe\">\n",
       "  <thead>\n",
       "    <tr style=\"text-align: right;\">\n",
       "      <th></th>\n",
       "      <th>best_feature</th>\n",
       "      <th>best_accuracy</th>\n",
       "    </tr>\n",
       "  </thead>\n",
       "  <tbody>\n",
       "    <tr>\n",
       "      <th>0</th>\n",
       "      <td>driving_experience</td>\n",
       "      <td>0.7771</td>\n",
       "    </tr>\n",
       "  </tbody>\n",
       "</table>\n",
       "</div>"
      ],
      "text/plain": [
       "         best_feature  best_accuracy\n",
       "0  driving_experience         0.7771"
      ]
     },
     "execution_count": 94,
     "metadata": {},
     "output_type": "execute_result"
    }
   ],
   "source": [
    "# displaying results\n",
    "best = {}\n",
    "best['best_feature'] = features[max_index]\n",
    "best['best_accuracy'] = max(accuracies)\n",
    "best_feature_df = pd.DataFrame(best, index=[0])\n",
    "best_feature_df"
   ]
  }
 ],
 "metadata": {
  "editor": "DataLab",
  "kernelspec": {
   "display_name": "Python 3 (ipykernel)",
   "language": "python",
   "name": "python3"
  },
  "language_info": {
   "codemirror_mode": {
    "name": "ipython",
    "version": 3
   },
   "file_extension": ".py",
   "mimetype": "text/x-python",
   "name": "python",
   "nbconvert_exporter": "python",
   "pygments_lexer": "ipython3",
   "version": "3.10.3"
  }
 },
 "nbformat": 4,
 "nbformat_minor": 5
}
